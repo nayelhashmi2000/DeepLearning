{
  "nbformat": 4,
  "nbformat_minor": 0,
  "metadata": {
    "colab": {
      "name": "IntotoTensorFlow2.ipynb",
      "provenance": [],
      "authorship_tag": "ABX9TyMxhATVieB1Fl/URFiPjIfz",
      "include_colab_link": true
    },
    "kernelspec": {
      "name": "python3",
      "display_name": "Python 3"
    }
  },
  "cells": [
    {
      "cell_type": "markdown",
      "metadata": {
        "id": "view-in-github",
        "colab_type": "text"
      },
      "source": [
        "<a href=\"https://colab.research.google.com/github/nayelhashmi2000/DeepLearning/blob/master/IntotoTensorFlow2.ipynb\" target=\"_parent\"><img src=\"https://colab.research.google.com/assets/colab-badge.svg\" alt=\"Open In Colab\"/></a>"
      ]
    },
    {
      "cell_type": "code",
      "metadata": {
        "id": "DxANQdPtzHiL",
        "outputId": "838c20ad-d6ca-43aa-aa12-3fb3629d7018",
        "colab": {
          "base_uri": "https://localhost:8080/"
        }
      },
      "source": [
        "import tensorflow as tf \n",
        "print(tf.__version__)\n",
        "callbacks = myCallback()"
      ],
      "execution_count": 17,
      "outputs": [
        {
          "output_type": "stream",
          "text": [
            "2.3.0\n"
          ],
          "name": "stdout"
        }
      ]
    },
    {
      "cell_type": "code",
      "metadata": {
        "id": "VU9wrIfLzbnV"
      },
      "source": [
        "mnist = tf.keras.datasets.fashion_mnist"
      ],
      "execution_count": 3,
      "outputs": []
    },
    {
      "cell_type": "code",
      "metadata": {
        "id": "wRC8uleIzsK-",
        "outputId": "ee9b2663-e04a-482a-c0d1-248f672eba4b",
        "colab": {
          "base_uri": "https://localhost:8080/"
        }
      },
      "source": [
        "(training_images, training_labels), (test_images, test_labels) = mnist.load_data() "
      ],
      "execution_count": 5,
      "outputs": [
        {
          "output_type": "stream",
          "text": [
            "Downloading data from https://storage.googleapis.com/tensorflow/tf-keras-datasets/train-labels-idx1-ubyte.gz\n",
            "32768/29515 [=================================] - 0s 0us/step\n",
            "Downloading data from https://storage.googleapis.com/tensorflow/tf-keras-datasets/train-images-idx3-ubyte.gz\n",
            "26427392/26421880 [==============================] - 1s 0us/step\n",
            "Downloading data from https://storage.googleapis.com/tensorflow/tf-keras-datasets/t10k-labels-idx1-ubyte.gz\n",
            "8192/5148 [===============================================] - 0s 0us/step\n",
            "Downloading data from https://storage.googleapis.com/tensorflow/tf-keras-datasets/t10k-images-idx3-ubyte.gz\n",
            "4423680/4422102 [==============================] - 0s 0us/step\n"
          ],
          "name": "stdout"
        }
      ]
    },
    {
      "cell_type": "code",
      "metadata": {
        "id": "a4ud6Bym0FRM",
        "outputId": "c50a57a4-f297-40e6-d95d-65fb680ae179",
        "colab": {
          "base_uri": "https://localhost:8080/",
          "height": 755
        }
      },
      "source": [
        "import numpy as np\n",
        "np.set_printoptions(linewidth=200)\n",
        "import matplotlib.pyplot as plt\n",
        "plt.imshow(training_images[42])\n",
        "training_labels[42]\n",
        "training_images[42]"
      ],
      "execution_count": 7,
      "outputs": [
        {
          "output_type": "execute_result",
          "data": {
            "text/plain": [
              "array([[  0,   0,   0,   0,   0,   0,   0,   0,   0,   0,   0,   0,   0,   0,   0,   0,   0,   0,   0,   0,   0,   0,   0,   0,   0,   0,   0,   0],\n",
              "       [  0,   0,   0,   0,   0,   0,   0,   0,   0,   0,   0,   0,   0,   0,   0,   0,   0,   0,   0,   0,   0,   0,   0,   0,   0,   0,   0,   0],\n",
              "       [  0,   0,   0,   0,   0,   0,   0,   0,   0,   0,   0,   0,   0,   0,   0,   0,   0,   0,   0,   0,   0,   0,   0,   0,   0,   0,   0,   0],\n",
              "       [  0,   0,   0,   0,   0,   0,   0,   0,   0,   0,   0,   0,   0,   0,   0,   0,   0,   0,   0,   0,   0,   0,   0,   0,   0,   0,   0,   0],\n",
              "       [  0,   0,   0,   0,   0,   0,   0,   0,   0,   0,   0,   0,   0,   0,   0,   0,   0,   0,   0,   0,   0,   0,   0,   0,   0,   0,   0,   0],\n",
              "       [  0,   0,   0,   0,   0,   0,   0,   0,   0,   0,   0,   0,   0,   0,   0,   0,  82, 187,  26,   0,   0,   0,   0,   0,   0,   0,   0,   0],\n",
              "       [  0,   0,   0,   0,   0,   0,   0,   0,   0,   1,   0,   0,   1,   0,   0, 179, 240, 237, 255, 240, 139,  83,  64,  43,  60,  54,   0,   1],\n",
              "       [  0,   0,   0,   0,   0,   0,   0,   0,   0,   1,   0,   0,   1,   0,  58, 239, 222, 234, 238, 246, 252, 254, 255, 248, 255, 187,   0,   0],\n",
              "       [  0,   0,   0,   0,   0,   0,   0,   0,   0,   0,   2,   3,   0,   0, 194, 239, 226, 237, 235, 232, 230, 234, 234, 233, 249, 171,   0,   0],\n",
              "       [  0,   0,   0,   0,   0,   0,   0,   0,   0,   1,   1,   0,   0,  10, 255, 226, 242, 239, 238, 239, 240, 239, 242, 238, 248, 192,   0,   0],\n",
              "       [  0,   0,   0,   0,   0,   0,   0,   0,   0,   0,   0,   0,   0, 172, 245, 229, 240, 241, 240, 241, 243, 243, 241, 227, 250, 209,   0,   0],\n",
              "       [  0,   0,   0,   0,   0,   0,   0,   0,   0,   6,   5,   0,  62, 255, 230, 236, 239, 241, 242, 241, 242, 242, 238, 238, 242, 253,   0,   0],\n",
              "       [  0,   0,   0,   0,   0,   0,   0,   0,   0,   3,   0,   0, 255, 235, 228, 244, 241, 241, 244, 243, 243, 244, 243, 239, 235, 255,  22,   0],\n",
              "       [  0,   0,   0,   0,   0,   0,   0,   0,   0,   0,   0, 246, 228, 220, 245, 243, 237, 241, 242, 242, 242, 243, 239, 237, 235, 253, 106,   0],\n",
              "       [  0,   0,   3,   4,   4,   2,   1,   0,   0,  18, 243, 228, 231, 241, 243, 237, 238, 242, 241, 240, 240, 240, 235, 237, 236, 246, 234,   0],\n",
              "       [  1,   0,   0,   0,   0,   0,   0,   0,  22, 255, 238, 227, 238, 239, 237, 241, 241, 237, 236, 238, 239, 239, 239, 239, 239, 237, 255,   0],\n",
              "       [  0,   0,   0,   0,   0,  25,  83, 168, 255, 225, 225, 235, 228, 230, 227, 225, 227, 231, 232, 237, 240, 236, 238, 239, 239, 235, 251,  62],\n",
              "       [  0, 165, 225, 220, 224, 255, 255, 233, 229, 223, 227, 228, 231, 232, 235, 237, 233, 230, 228, 230, 233, 232, 235, 233, 234, 235, 255,  58],\n",
              "       [ 52, 251, 221, 226, 227, 225, 225, 225, 226, 226, 225, 227, 231, 229, 232, 239, 245, 250, 251, 252, 254, 254, 252, 254, 252, 235, 255,   0],\n",
              "       [ 31, 208, 230, 233, 233, 237, 236, 236, 241, 235, 241, 247, 251, 254, 242, 236, 233, 227, 219, 202, 193, 189, 186, 181, 171, 165, 190,  42],\n",
              "       [ 77, 199, 172, 188, 199, 202, 218, 219, 220, 229, 234, 222, 213, 209, 207, 210, 203, 184, 152, 171, 165, 162, 162, 167, 168, 157, 192,  78],\n",
              "       [  0,  45, 101, 140, 159, 174, 182, 186, 185, 188, 195, 197, 188, 175, 133,  70,  19,   0,   0, 209, 231, 218, 222, 224, 227, 217, 229,  93],\n",
              "       [  0,   0,   0,   0,   0,   0,   2,  24,  37,  45,  32,  18,  11,   0,   0,   0,   0,   0,   0,  72,  51,  53,  37,  34,  29,  31,   5,   0],\n",
              "       [  0,   0,   0,   0,   0,   0,   0,   0,   0,   0,   0,   0,   0,   0,   0,   0,   0,   0,   0,   0,   0,   0,   0,   0,   0,   0,   0,   0],\n",
              "       [  0,   0,   0,   0,   0,   0,   0,   0,   0,   0,   0,   0,   0,   0,   0,   0,   0,   0,   0,   0,   0,   0,   0,   0,   0,   0,   0,   0],\n",
              "       [  0,   0,   0,   0,   0,   0,   0,   0,   0,   0,   0,   0,   0,   0,   0,   0,   0,   0,   0,   0,   0,   0,   0,   0,   0,   0,   0,   0],\n",
              "       [  0,   0,   0,   0,   0,   0,   0,   0,   0,   0,   0,   0,   0,   0,   0,   0,   0,   0,   0,   0,   0,   0,   0,   0,   0,   0,   0,   0],\n",
              "       [  0,   0,   0,   0,   0,   0,   0,   0,   0,   0,   0,   0,   0,   0,   0,   0,   0,   0,   0,   0,   0,   0,   0,   0,   0,   0,   0,   0]], dtype=uint8)"
            ]
          },
          "metadata": {
            "tags": []
          },
          "execution_count": 7
        },
        {
          "output_type": "display_data",
          "data": {
            "image/png": "[encoded data removed]",
            "text/plain": [
              "<Figure size 432x288 with 1 Axes>"
            ]
          },
          "metadata": {
            "tags": [],
            "needs_background": "light"
          }
        }
      ]
    },
    {
      "cell_type": "code",
      "metadata": {
        "id": "DEDMoaFY0yVM"
      },
      "source": [
        "training_images = training_images / 255.0\n",
        "test_images = test_images / 255.0"
      ],
      "execution_count": 8,
      "outputs": []
    },
    {
      "cell_type": "code",
      "metadata": {
        "id": "2UbXH6FI0-8s"
      },
      "source": [
        "model = tf.keras.models.Sequential([tf.keras.layers.Flatten(), #EX2 number of nuerons=1034\n",
        "        tf.keras.layers.Dense(1024, activation=tf.nn.relu),\n",
        "        tf.keras.layers.Dense(10, activation=tf.nn.softmax)])"
      ],
      "execution_count": 14,
      "outputs": []
    },
    {
      "cell_type": "code",
      "metadata": {
        "id": "ZxZRZ9u92GMC",
        "outputId": "652e2024-cf3e-47e5-bcb5-b3b72149d881",
        "colab": {
          "base_uri": "https://localhost:8080/"
        }
      },
      "source": [
        "model.compile(optimizer = tf.optimizers.Adam(),\n",
        "              loss = 'sparse_categorical_crossentropy',\n",
        "              metrics=['accuracy'])\n",
        "\n",
        "model.fit(training_images, training_labels, epochs=10, callbacks=[callbacks])"
      ],
      "execution_count": 18,
      "outputs": [
        {
          "output_type": "stream",
          "text": [
            "Epoch 1/10\n",
            "1875/1875 [==============================] - 12s 6ms/step - loss: 0.2167 - accuracy: 0.9184\n",
            "Epoch 2/10\n",
            "1875/1875 [==============================] - 12s 6ms/step - loss: 0.2031 - accuracy: 0.9235\n",
            "Epoch 3/10\n",
            "1870/1875 [============================>.] - ETA: 0s - loss: 0.1957 - accuracy: 0.9262\n",
            "Reached about 80 percent accuracy so that is enough training!\n",
            "1875/1875 [==============================] - 12s 6ms/step - loss: 0.1958 - accuracy: 0.9261\n"
          ],
          "name": "stdout"
        },
        {
          "output_type": "execute_result",
          "data": {
            "text/plain": [
              "<tensorflow.python.keras.callbacks.History at 0x7f20b4dac4e0>"
            ]
          },
          "metadata": {
            "tags": []
          },
          "execution_count": 18
        }
      ]
    },
    {
      "cell_type": "code",
      "metadata": {
        "id": "g14eofem28Mw",
        "outputId": "9f047147-8c5d-4926-e283-aac1368f208e",
        "colab": {
          "base_uri": "https://localhost:8080/"
        }
      },
      "source": [
        "model.evaluate(test_images, test_labels)"
      ],
      "execution_count": 11,
      "outputs": [
        {
          "output_type": "stream",
          "text": [
            "313/313 [==============================] - 0s 1ms/step - loss: 0.3543 - accuracy: 0.8719\n"
          ],
          "name": "stdout"
        },
        {
          "output_type": "execute_result",
          "data": {
            "text/plain": [
              "[0.3542655110359192, 0.8719000220298767]"
            ]
          },
          "metadata": {
            "tags": []
          },
          "execution_count": 11
        }
      ]
    },
    {
      "cell_type": "code",
      "metadata": {
        "id": "nNU_qkq_3T9x",
        "outputId": "08aa7df4-f061-4581-ce6c-b4ea3272a856",
        "colab": {
          "base_uri": "https://localhost:8080/"
        }
      },
      "source": [
        "classifications = model.predict(test_images) #EX1\n",
        "classifications[0]"
      ],
      "execution_count": 12,
      "outputs": [
        {
          "output_type": "execute_result",
          "data": {
            "text/plain": [
              "array([7.4508998e-06, 3.3809699e-09, 7.0942349e-08, 7.5943518e-09, 8.6800981e-07, 3.6744020e-04, 1.5099992e-06, 2.2274254e-02, 8.9121770e-08, 9.7734833e-01], dtype=float32)"
            ]
          },
          "metadata": {
            "tags": []
          },
          "execution_count": 12
        }
      ]
    },
    {
      "cell_type": "code",
      "metadata": {
        "id": "MFF5yDTq3g8F",
        "outputId": "e6df508f-565b-4a24-e817-cd55f9bdfde3",
        "colab": {
          "base_uri": "https://localhost:8080/"
        }
      },
      "source": [
        "test_labels[0] #ankleboot"
      ],
      "execution_count": 13,
      "outputs": [
        {
          "output_type": "execute_result",
          "data": {
            "text/plain": [
              "9"
            ]
          },
          "metadata": {
            "tags": []
          },
          "execution_count": 13
        }
      ]
    },
    {
      "cell_type": "code",
      "metadata": {
        "id": "RYerG6JQ4DkQ"
      },
      "source": [
        "class myCallback(tf.keras.callbacks.Callback): #to stop tyraining at a certain metric \n",
        "  def on_epoch_end(self, epoch, logs={}):\n",
        "    if(logs.get('loss')<0.2):\n",
        "      print(\"\\nReached about 80 percent accuracy so that is enough training!\")\n",
        "      self.model.stop_training = True"
      ],
      "execution_count": 16,
      "outputs": []
    }
  ]
}